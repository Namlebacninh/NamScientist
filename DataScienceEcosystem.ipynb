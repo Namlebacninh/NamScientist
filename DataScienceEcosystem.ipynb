{
 "cells": [
  {
   "cell_type": "markdown",
   "id": "14254058-e28a-45ab-ba52-558fd69c21b5",
   "metadata": {},
   "source": [
    "# Data Science Tools and Ecosystem\n"
   ]
  },
  {
   "cell_type": "markdown",
   "id": "046ef11b-3723-47f6-a9a6-8b1824d3d4b3",
   "metadata": {},
   "source": [
    "In this notebook, Data Science Tools and Ecosystem are summarized."
   ]
  },
  {
   "cell_type": "markdown",
   "id": "d5b383ff-be6b-4317-885a-ea182f59811a",
   "metadata": {},
   "source": [
    "**Objectives**:\n",
    "- Python\n",
    "- R\n",
    "- Scala\n",
    "- SQL"
   ]
  },
  {
   "cell_type": "markdown",
   "id": "4c022221-1dde-4514-9c56-d706722eab40",
   "metadata": {},
   "source": [
    "Some of the popular languages that Data Scientists use are:\n",
    "1. python\n",
    "2. SQL\n",
    "3. R"
   ]
  },
  {
   "cell_type": "markdown",
   "id": "97e13b7f-2983-4d90-b67f-351a2f2626cd",
   "metadata": {},
   "source": [
    "Some of the commonly used libraries used by Data Scientists include:\n",
    "1. Pandas\n",
    "2. Numpy\n",
    "3. Matplotlib.pyplot"
   ]
  },
  {
   "cell_type": "markdown",
   "id": "c2e369cc-856c-4991-9509-4875e57634b1",
   "metadata": {},
   "source": [
    "|Data Science Tools|\n",
    "|--------------------|\n",
    "|Pytorch|\n",
    "|MLFlow|\n",
    "|Hugging Face|"
   ]
  },
  {
   "cell_type": "markdown",
   "id": "0f5daf05-6e53-475f-a5e9-db5796cac69c",
   "metadata": {},
   "source": [
    "### Below are a few examples of evaluating arithmetic expressions in Python"
   ]
  },
  {
   "cell_type": "markdown",
   "id": "82f21767-1e66-4a7b-ab25-c99c37839c29",
   "metadata": {},
   "source": [
    "This a simple arithmetic expression to mutiply then add integers"
   ]
  },
  {
   "cell_type": "code",
   "execution_count": 21,
   "id": "57178f80-636c-4cdf-a213-fca94ee57fa5",
   "metadata": {},
   "outputs": [
    {
     "data": {
      "text/plain": [
       "17"
      ]
     },
     "execution_count": 21,
     "metadata": {},
     "output_type": "execute_result"
    }
   ],
   "source": [
    "3*4+5"
   ]
  },
  {
   "cell_type": "markdown",
   "id": "ee06a596-6e44-4f32-81c7-b9a972a50f20",
   "metadata": {},
   "source": [
    "This will convert 200 minutes to hours by diving by 60."
   ]
  },
  {
   "cell_type": "code",
   "execution_count": 25,
   "id": "d7aa2db1-924d-4ec2-93bf-115a824a2f57",
   "metadata": {},
   "outputs": [
    {
     "data": {
      "text/plain": [
       "3.3333333333333335"
      ]
     },
     "execution_count": 25,
     "metadata": {},
     "output_type": "execute_result"
    }
   ],
   "source": [
    "Min=200\n",
    "Hour=Min/60\n",
    "Hour"
   ]
  },
  {
   "cell_type": "markdown",
   "id": "f53cd1ec-80f3-4b42-8249-1b0290b11b89",
   "metadata": {},
   "source": [
    "## Author\n",
    "Nam Le"
   ]
  },
  {
   "cell_type": "code",
   "execution_count": null,
   "id": "00b89549-a01f-4124-a15f-e0b1cb901829",
   "metadata": {},
   "outputs": [],
   "source": []
  }
 ],
 "metadata": {
  "kernelspec": {
   "display_name": "Python 3 (ipykernel)",
   "language": "python",
   "name": "python3"
  },
  "language_info": {
   "codemirror_mode": {
    "name": "ipython",
    "version": 3
   },
   "file_extension": ".py",
   "mimetype": "text/x-python",
   "name": "python",
   "nbconvert_exporter": "python",
   "pygments_lexer": "ipython3",
   "version": "3.12.4"
  }
 },
 "nbformat": 4,
 "nbformat_minor": 5
}
